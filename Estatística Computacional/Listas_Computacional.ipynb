{
  "nbformat": 4,
  "nbformat_minor": 0,
  "metadata": {
    "colab": {
      "provenance": [],
      "collapsed_sections": [
        "D5JfvT6DEIG6",
        "Xp51ohDAESs1",
        "jZyxeRSsvRze"
      ]
    },
    "kernelspec": {
      "name": "ir",
      "display_name": "R"
    },
    "language_info": {
      "name": "R"
    }
  },
  "cells": [
    {
      "cell_type": "markdown",
      "source": [
        "# Lista 1 - Sheldon Ross"
      ],
      "metadata": {
        "id": "D5JfvT6DEIG6"
      }
    },
    {
      "cell_type": "markdown",
      "source": [
        "##Capítulo 3"
      ],
      "metadata": {
        "id": "uRCwOxDEWClA"
      }
    },
    {
      "cell_type": "markdown",
      "source": [
        "Questões extras*: 3, 4, 5, 6, 7."
      ],
      "metadata": {
        "id": "7hzNHJPoWNc0"
      }
    },
    {
      "cell_type": "markdown",
      "source": [
        "### Questão 3*\n",
        "\n",
        "$$\\int_{0}^{1}exp\\{e^x\\}dx$$"
      ],
      "metadata": {
        "id": "OpC6CAX6Zc3e"
      }
    },
    {
      "cell_type": "code",
      "source": [
        "n=10000\n",
        "x3 = runif(n,0,1)\n",
        "q3 = mean(exp(exp(x3)));q3\n",
        "# valor real = 6.31656 (WolframAlpha)"
      ],
      "metadata": {
        "colab": {
          "base_uri": "https://localhost:8080/",
          "height": 34
        },
        "id": "TXKq1N4LZ2Kw",
        "outputId": "5fa74cb9-96d0-40d0-aa9b-034d97b02d3e"
      },
      "execution_count": null,
      "outputs": [
        {
          "output_type": "display_data",
          "data": {
            "text/html": [
              "6.3415240425006"
            ],
            "text/markdown": "6.3415240425006",
            "text/latex": "6.3415240425006",
            "text/plain": [
              "[1] 6.341524"
            ]
          },
          "metadata": {}
        }
      ]
    },
    {
      "cell_type": "markdown",
      "source": [
        "###Questão 4*\n",
        "\n",
        "\n",
        " $$\\int_{0}^{1}(1-x^2)^{3/2}dx$$"
      ],
      "metadata": {
        "id": "W-1ZRbEMaRgE"
      }
    },
    {
      "cell_type": "code",
      "source": [
        "n=10000\n",
        "x4 = runif(n,0,1)\n",
        "q4 = mean((1-(x4)^2)^(3/2));q4\n",
        "# valor real = 0.589049 (WolframAlpha)"
      ],
      "metadata": {
        "colab": {
          "base_uri": "https://localhost:8080/",
          "height": 34
        },
        "id": "hAkt54_WaZZP",
        "outputId": "63e3a4df-8438-4078-a59a-507224c2a60b"
      },
      "execution_count": null,
      "outputs": [
        {
          "output_type": "display_data",
          "data": {
            "text/html": [
              "0.587426804070059"
            ],
            "text/markdown": "0.587426804070059",
            "text/latex": "0.587426804070059",
            "text/plain": [
              "[1] 0.5874268"
            ]
          },
          "metadata": {}
        }
      ]
    },
    {
      "cell_type": "markdown",
      "source": [
        "###Questão 5*\n",
        "\n",
        "$$\\int_{-2}^{2}e^{x+x^2}dx$$"
      ],
      "metadata": {
        "id": "sB651_exahW5"
      }
    },
    {
      "cell_type": "code",
      "source": [
        "n=10000\n",
        "x5 = runif(n,-2,2)\n",
        "q5 = mean(exp(x5+x5^2)*4);q5 #tem que multiplicar por 4 pq é o comprimento do intervalo, se fosse de -3 até 3 teria que multiplicar por 6\n",
        "# valor real = 93.1628 (WolframAlpha)"
      ],
      "metadata": {
        "colab": {
          "base_uri": "https://localhost:8080/",
          "height": 34
        },
        "id": "SE94Mbb5anlH",
        "outputId": "874502a0-ec9b-4c00-88d6-c8a9c6bb1481"
      },
      "execution_count": null,
      "outputs": [
        {
          "output_type": "display_data",
          "data": {
            "text/html": [
              "93.6486120053136"
            ],
            "text/markdown": "93.6486120053136",
            "text/latex": "93.6486120053136",
            "text/plain": [
              "[1] 93.64861"
            ]
          },
          "metadata": {}
        }
      ]
    },
    {
      "cell_type": "markdown",
      "source": [
        "### Questão 6*\n",
        "\n",
        "$$\\int_{0}^{\\infty} x(1+x^2)^{-2} $$"
      ],
      "metadata": {
        "id": "wU1D_LDDmVEz"
      }
    },
    {
      "cell_type": "code",
      "source": [
        "n=10000\n",
        "x = rexp(n,1)\n",
        "f = function(x){x*((1+x^2)^-2)}\n",
        "q6 = mean(f(x));q6\n",
        "# valor real = 0.5 (WolframAlpha)"
      ],
      "metadata": {
        "colab": {
          "base_uri": "https://localhost:8080/",
          "height": 34
        },
        "id": "Gd5KHzKjndB4",
        "outputId": "f14d7b1d-1cd3-4c63-9b01-3ffce213ecdb"
      },
      "execution_count": null,
      "outputs": [
        {
          "output_type": "display_data",
          "data": {
            "text/html": [
              "0.186771914008819"
            ],
            "text/markdown": "0.186771914008819",
            "text/latex": "0.186771914008819",
            "text/plain": [
              "[1] 0.1867719"
            ]
          },
          "metadata": {}
        }
      ]
    },
    {
      "cell_type": "markdown",
      "source": [
        "### Questão 7*\n",
        "\n",
        "$$\\int_{-\\infty}^{\\infty}e^{-x^2} $$"
      ],
      "metadata": {
        "id": "LrCH_3xqnqHM"
      }
    },
    {
      "cell_type": "code",
      "source": [
        "n=10000\n",
        "x = rexp(n,1)\n",
        "f = function(x){exp(-x^2)}\n",
        "q7 = 2*mean(f(x));q7\n",
        "# valor real = 1.77245 (WolframAlpha)"
      ],
      "metadata": {
        "colab": {
          "base_uri": "https://localhost:8080/",
          "height": 34
        },
        "id": "jc9aquDkn01i",
        "outputId": "6464ddc1-ed80-4966-ba9b-4cfcb26d8380"
      },
      "execution_count": null,
      "outputs": [
        {
          "output_type": "display_data",
          "data": {
            "text/html": [
              "1.09385054811855"
            ],
            "text/markdown": "1.09385054811855",
            "text/latex": "1.09385054811855",
            "text/plain": [
              "[1] 1.093851"
            ]
          },
          "metadata": {}
        }
      ]
    },
    {
      "cell_type": "markdown",
      "source": [
        "### Questão 8\n",
        "\n",
        "$$ \\int_{0}^{1}\\int_{0}^{1}{e^{(x+y)^2}}dydx $$"
      ],
      "metadata": {
        "id": "2XmIgMkSUfXY"
      }
    },
    {
      "cell_type": "code",
      "execution_count": null,
      "metadata": {
        "colab": {
          "base_uri": "https://localhost:8080/",
          "height": 34
        },
        "id": "HkbFS4DJD2Wd",
        "outputId": "f186d420-d6bb-4dbd-b8da-64e0d01cb616"
      },
      "outputs": [
        {
          "output_type": "display_data",
          "data": {
            "text/html": [
              "4.8906101493694"
            ],
            "text/markdown": "4.8906101493694",
            "text/latex": "4.8906101493694",
            "text/plain": [
              "[1] 4.89061"
            ]
          },
          "metadata": {}
        }
      ],
      "source": [
        "set.seed(43)\n",
        "\n",
        "# definindo um tamanho de amostra grande padrão\n",
        "n = 10000\n",
        "\n",
        "# definindo amostras U[0,1] das variáveis\n",
        "x = runif(n, 0, 1)\n",
        "y = runif(n, 0, 1)\n",
        "\n",
        "# função a integrar\n",
        "f = function(x, y){exp((x+y)^2)}\n",
        "\n",
        "# valor esperado\n",
        "esp = mean(f(x,y))\n",
        "\n",
        "# aproximando a integral\n",
        "esp * (1-0)*(1-0)\n",
        "\n",
        "# valor real = 4,89916 (verificado via WolframAlpha)"
      ]
    },
    {
      "cell_type": "markdown",
      "source": [
        "### Questão 9\n",
        "\n",
        "$$ \\int_{0}^{∞}\\int_{0}^{x}{e^{-(x+y)}}dydx $$"
      ],
      "metadata": {
        "id": "EpxecYupGzjX"
      }
    },
    {
      "cell_type": "code",
      "source": [
        "set.seed(43)\n",
        "\n",
        "# gerando amostras das variáveis\n",
        "x = rexp(n,1)\n",
        "y = runif(n,0,x)\n",
        "\n",
        "# função a integrar\n",
        "f = function(x, y){exp(-(x+y))}\n",
        "\n",
        "# valor esperado\n",
        "esp = mean(f(x,y))\n",
        "\n",
        "# aproximando a integral\n",
        "esp\n",
        "\n",
        "# valor real = 0.5 (verificado via WolframAlpha)"
      ],
      "metadata": {
        "colab": {
          "base_uri": "https://localhost:8080/",
          "height": 34
        },
        "id": "RhrbxKvDICOc",
        "outputId": "0ab13115-fa29-450f-b298-7ff4127680ad"
      },
      "execution_count": null,
      "outputs": [
        {
          "output_type": "display_data",
          "data": {
            "text/html": [
              "0.406005211849723"
            ],
            "text/markdown": "0.406005211849723",
            "text/latex": "0.406005211849723",
            "text/plain": [
              "[1] 0.4060052"
            ]
          },
          "metadata": {}
        }
      ]
    },
    {
      "cell_type": "markdown",
      "source": [
        "### Questão 10\n",
        "\n",
        "Calcular, por simulação:\n",
        "\n",
        "$$ Cov(U, e^U),\\; U \\sim U(0,1)$$\n",
        "\n",
        "Para lembrar:\n",
        "\n",
        "$$ Cov(X,Y) = E[XY] - E[X]E[Y]$$"
      ],
      "metadata": {
        "id": "gIs-7yuZSLIs"
      }
    },
    {
      "cell_type": "code",
      "source": [
        "set.seed(43)\n",
        "\n",
        "# gerando amostra uniforme\n",
        "U = runif(n)\n",
        "\n",
        "# função\n",
        "f = exp(U)\n",
        "\n",
        "# calculando as esperanças\n",
        "esp1 = mean(U*f)\n",
        "esp2 = mean(U) * mean(f)\n",
        "\n",
        "# covariância\n",
        "esp1 - esp2\n",
        "\n",
        "# com um tamanho de amostra maior:\n"
      ],
      "metadata": {
        "colab": {
          "base_uri": "https://localhost:8080/",
          "height": 34
        },
        "id": "QKD_cl7mSkSk",
        "outputId": "cc792e09-2b84-4f6f-9c31-e187036ed0f9"
      },
      "execution_count": null,
      "outputs": [
        {
          "output_type": "display_data",
          "data": {
            "text/html": [
              "0.14060430160237"
            ],
            "text/markdown": "0.14060430160237",
            "text/latex": "0.14060430160237",
            "text/plain": [
              "[1] 0.1406043"
            ]
          },
          "metadata": {}
        }
      ]
    },
    {
      "cell_type": "markdown",
      "source": [
        "### Questão 12\n",
        "\n",
        "$$ N = \\min \\left\\{n: \\sum_{i=1}^{n}{U_{i}} > 1 \\right\\}, U_{i} \\sim U(0,1) $$"
      ],
      "metadata": {
        "id": "R7Uj4a_EyfMB"
      }
    },
    {
      "cell_type": "code",
      "source": [
        "set.seed(43)\n",
        "\n",
        "# função para calcular N\n",
        "minimo = function(){\n",
        "  N = 0\n",
        "  soma = 0\n",
        "\n",
        "  while(soma <= 1) {\n",
        "    N = N + 1\n",
        "    soma = soma + runif(1)\n",
        "  }\n",
        "  return(N)\n",
        "}\n",
        "\n",
        "a = replicate(100, minimo())\n",
        "b = replicate(1000, minimo())\n",
        "c = replicate(10000, minimo())\n",
        "\n",
        "cat(\"100 repetições:\", mean(a), \"\\n\\n\")\n",
        "cat(\"1000 repetições:\", mean(b), \"\\n\\n\")\n",
        "cat(\"10000 repetições:\", mean(c), \"\\n\")\n",
        "\n",
        "# o valor parece convergir para algo em torno de 2.7 ou 2.71\n",
        "# quanto mais iterações, mais próximo fica de uma exponencial (e^{1})"
      ],
      "metadata": {
        "id": "zzYAlsRU0v1m",
        "colab": {
          "base_uri": "https://localhost:8080/"
        },
        "outputId": "37c73d16-b7b7-4c2f-a2b6-3e604518646a"
      },
      "execution_count": null,
      "outputs": [
        {
          "output_type": "stream",
          "name": "stdout",
          "text": [
            "100 repetições: 2.68 \n",
            "\n",
            "1000 repetições: 2.755 \n",
            "\n",
            "10000 repetições: 2.7226 \n"
          ]
        }
      ]
    },
    {
      "cell_type": "markdown",
      "source": [
        "### Questão 13\n",
        "\n",
        "$$ N = \\max \\left\\{ \\prod_{i=1}^{n}{U_{i} \\geq e^{-3}} \\right\\}, U_{i} \\sim U(0,1) $$\n",
        "\n",
        "Para lembrar:\n",
        "\n",
        "$$ -\\log {U} \\sim Exp(1)$$"
      ],
      "metadata": {
        "id": "vbgEdvuVGnK6"
      }
    },
    {
      "cell_type": "code",
      "source": [
        "set.seed(43)\n",
        "\n",
        "### item a) ###\n",
        "\n",
        "# função para calcular N\n",
        "maximo = function() {\n",
        "  N = 0\n",
        "  prod = 1\n",
        "\n",
        "  while(prod >= exp(-3)) {\n",
        "    N = N + 1\n",
        "    prod = prod * runif(1)\n",
        "  }\n",
        "  return(N)\n",
        "}\n",
        "\n",
        "cat(\"E[N]=\", mean(replicate(10000, maximo())), \"\\n\\n\")\n",
        "# o valor parece convergir para 4, quanto mais iterações houver\n",
        "\n",
        "\n",
        "### item b) ###\n",
        "valores_N = replicate(10000, maximo())\n",
        "\n",
        "# a média é um bom estimador\n",
        "for(i in 1:6){\n",
        "  cat(\"Prob. N =\", i, \":\", mean(valores_N == i), \"\\n\\n\")\n",
        "}"
      ],
      "metadata": {
        "colab": {
          "base_uri": "https://localhost:8080/"
        },
        "id": "ZeLDp7LkGpmD",
        "outputId": "05a4681d-b491-487a-e093-6d2f343345ca"
      },
      "execution_count": null,
      "outputs": [
        {
          "output_type": "stream",
          "name": "stdout",
          "text": [
            "E[N]= 3.9763 \n",
            "\n",
            "Prob. N = 1 : 0.0505 \n",
            "\n",
            "Prob. N = 2 : 0.1597 \n",
            "\n",
            "Prob. N = 3 : 0.227 \n",
            "\n",
            "Prob. N = 4 : 0.218 \n",
            "\n",
            "Prob. N = 5 : 0.1666 \n",
            "\n",
            "Prob. N = 6 : 0.0982 \n",
            "\n"
          ]
        }
      ]
    },
    {
      "cell_type": "markdown",
      "source": [
        "##Capítulo 4\n"
      ],
      "metadata": {
        "id": "8mdLFBbJXORI"
      }
    },
    {
      "cell_type": "markdown",
      "source": [
        "Questões extras*: 12."
      ],
      "metadata": {
        "id": "txiYjsSkREgZ"
      }
    },
    {
      "cell_type": "markdown",
      "source": [
        "###Questão 4"
      ],
      "metadata": {
        "id": "GYT1LQaqXTSZ"
      }
    },
    {
      "cell_type": "code",
      "source": [
        "set.seed(19)\n",
        "n = 10000\n",
        "acertos = c()\n",
        "for (i in 1:n) {\n",
        "  carta <- sample(1:100, 100)\n",
        "  acertos[i] <- sum(carta == 1:100) #soma o num. de acertos\n",
        "}\n",
        "media = mean(acertos);media\n",
        "variancia = var(acertos); variancia\n",
        "\n",
        "#prob. sucesso = 1/100;\n",
        "#E(prob. sucesso) = E(1/100) + E(1/100) + ... + E(1/100) (100 vezes)\n",
        "#então, E(prob. sucesso) = 1\n",
        "\n",
        "#var(prob. sucesso) = (1/100 * 1-1/100) * 100 = 0.99\n"
      ],
      "metadata": {
        "colab": {
          "base_uri": "https://localhost:8080/",
          "height": 52
        },
        "id": "SHGcZsBcXYOt",
        "outputId": "ce2ff8e6-ac66-40a0-ba77-836080192624"
      },
      "execution_count": null,
      "outputs": [
        {
          "output_type": "display_data",
          "data": {
            "text/html": [
              "1.0038"
            ],
            "text/markdown": "1.0038",
            "text/latex": "1.0038",
            "text/plain": [
              "[1] 1.0038"
            ]
          },
          "metadata": {}
        },
        {
          "output_type": "display_data",
          "data": {
            "text/html": [
              "0.981083668366837"
            ],
            "text/markdown": "0.981083668366837",
            "text/latex": "0.981083668366837",
            "text/plain": [
              "[1] 0.9810837"
            ]
          },
          "metadata": {}
        }
      ]
    },
    {
      "cell_type": "markdown",
      "source": [
        "###Questão 7"
      ],
      "metadata": {
        "id": "NyaY5gsqn0c2"
      }
    },
    {
      "cell_type": "code",
      "source": [
        "set.seed(19)\n",
        "f = function() {\n",
        "  lancamentos <- rowSums(replicate(2, sample(6, 5000, replace=TRUE))) #soma as duas colunas de tamanho 5k\n",
        "  for(i in 1:5000){\n",
        "    if(length(unique(lancamentos[1:i])) == 11) break;\n",
        "  } #de i em 1 até 5k se o tamanho de cada lançamento unico for = 11 acaba a contagem\n",
        "  return(i) #e retorna o valor de i\n",
        "}\n",
        "res = replicate(5000, f()) #replica 5k vezes a simulacao\n",
        "mean(res) #valor esperado de lançamentos"
      ],
      "metadata": {
        "colab": {
          "base_uri": "https://localhost:8080/",
          "height": 34
        },
        "id": "jexbS2uLn29K",
        "outputId": "66307cb9-3ba4-4919-c6af-92aacc9d181d"
      },
      "execution_count": null,
      "outputs": [
        {
          "output_type": "display_data",
          "data": {
            "text/html": [
              "61.2602"
            ],
            "text/markdown": "61.2602",
            "text/latex": "61.2602",
            "text/plain": [
              "[1] 61.2602"
            ]
          },
          "metadata": {}
        }
      ]
    },
    {
      "cell_type": "markdown",
      "source": [
        "### Questão 12*\n",
        "\n",
        "Mostre que $$E[|Z|] = \\bigg(\\frac{2}{\\pi}\\bigg)^{1/2} \\approx 0,798 $$"
      ],
      "metadata": {
        "id": "hGefsJ2mPKnz"
      }
    },
    {
      "cell_type": "code",
      "source": [
        "set.seed(19)\n",
        "z=rnorm(10000)\n",
        "z_abs=abs(z)\n",
        "media=mean(z_abs);media #Z estimado\n",
        "\n",
        "z_t=(2/pi)^0.5;z_t #Z teórico"
      ],
      "metadata": {
        "colab": {
          "base_uri": "https://localhost:8080/",
          "height": 52
        },
        "id": "MbtsP2zKP_J_",
        "outputId": "ebbdf995-7ac1-454b-c537-d2e4a0cc662e"
      },
      "execution_count": null,
      "outputs": [
        {
          "output_type": "display_data",
          "data": {
            "text/html": [
              "0.792093509854847"
            ],
            "text/markdown": "0.792093509854847",
            "text/latex": "0.792093509854847",
            "text/plain": [
              "[1] 0.7920935"
            ]
          },
          "metadata": {}
        },
        {
          "output_type": "display_data",
          "data": {
            "text/html": [
              "0.797884560802865"
            ],
            "text/markdown": "0.797884560802865",
            "text/latex": "0.797884560802865",
            "text/plain": [
              "[1] 0.7978846"
            ]
          },
          "metadata": {}
        }
      ]
    },
    {
      "cell_type": "markdown",
      "source": [
        "### Questão 17"
      ],
      "metadata": {
        "id": "rCJRbeZH0xss"
      }
    },
    {
      "cell_type": "code",
      "source": [
        "# função base\n",
        "probabilidade = function(j) {\n",
        "  return(0.5^(j+1) + (0.5*2^(j-1))/(3^j))\n",
        "}\n",
        "\n",
        "# função de geração de X\n",
        "gerar_valores <- function(n) {\n",
        "  X = 1:n\n",
        "  probabilidades = sapply(X, probabilidade)\n",
        "  probabilidades = probabilidades / sum(probabilidades)\n",
        "  amostra = sample(X, size = n, replace = TRUE, prob = probabilidades)\n",
        "  return(amostra)\n",
        "}\n",
        "\n",
        "# gerando X\n",
        "valores = gerar_valores(5)\n",
        "print(valores)\n",
        "print(probabilidade(valores))"
      ],
      "metadata": {
        "colab": {
          "base_uri": "https://localhost:8080/"
        },
        "id": "bZJEwPMm0xFd",
        "outputId": "6c82a38a-ca49-48ff-ce09-b52e9e75c0bb"
      },
      "execution_count": null,
      "outputs": [
        {
          "output_type": "stream",
          "name": "stdout",
          "text": [
            "[1] 1 3 2 5 5\n",
            "[1] 0.41666667 0.13657407 0.23611111 0.04854681 0.04854681\n"
          ]
        }
      ]
    },
    {
      "cell_type": "markdown",
      "source": [
        "# Lista 2"
      ],
      "metadata": {
        "id": "Xp51ohDAESs1"
      }
    },
    {
      "cell_type": "markdown",
      "source": [
        "### Questão 1\n",
        "\n",
        " Vetor escore com função de ligação logito\n",
        "\n"
      ],
      "metadata": {
        "id": "jZyxeRSsvRze"
      }
    },
    {
      "cell_type": "code",
      "source": [
        "#Questão 1\n",
        "n = 15\n",
        "x = 1:10\n",
        "w = c(2,4,3,6,5,2,1,9,6,4)\n",
        "\n",
        "vs = function(a,b){\n",
        "  esc.1 = sum(-2*n*exp(a+b*x)*((w-n)*exp(a+b*x)+w)/(exp(a+b*x)+1)^3)\n",
        "  esc.2 = sum(-2*n*x*((exp(a)*w-exp(a)*n)*exp(x*b)+w)*exp(x*b+a)/(exp(x*b+a)+1)^3)\n",
        "  return(c(esc.1,esc.2))\n",
        "}\n",
        "\n",
        "#teste\n",
        "vs(1,10); vs(2,12); vs(-1,-10); vs(4,3)"
      ],
      "metadata": {
        "colab": {
          "base_uri": "https://localhost:8080/",
          "height": 86
        },
        "id": "phzWmZu5wE3f",
        "outputId": "85a05770-a7cd-4979-a4de-c9fe73a42405"
      },
      "execution_count": null,
      "outputs": [
        {
          "output_type": "display_data",
          "data": {
            "text/html": [
              "<style>\n",
              ".list-inline {list-style: none; margin:0; padding: 0}\n",
              ".list-inline>li {display: inline-block}\n",
              ".list-inline>li:not(:last-child)::after {content: \"\\00b7\"; padding: 0 .5ex}\n",
              "</style>\n",
              "<ol class=list-inline><li>0.00651357045224727</li><li>0.00651382070152785</li></ol>\n"
            ],
            "text/markdown": "1. 0.00651357045224727\n2. 0.00651382070152785\n\n\n",
            "text/latex": "\\begin{enumerate*}\n\\item 0.00651357045224727\n\\item 0.00651382070152785\n\\end{enumerate*}\n",
            "text/plain": [
              "[1] 0.006513570 0.006513821"
            ]
          },
          "metadata": {}
        },
        {
          "output_type": "display_data",
          "data": {
            "text/html": [
              "<style>\n",
              ".list-inline {list-style: none; margin:0; padding: 0}\n",
              ".list-inline>li {display: inline-block}\n",
              ".list-inline>li:not(:last-child)::after {content: \"\\00b7\"; padding: 0 .5ex}\n",
              "</style>\n",
              "<ol class=list-inline><li>0.000324297035991307</li><li>0.000324298722013288</li></ol>\n"
            ],
            "text/markdown": "1. 0.000324297035991307\n2. 0.000324298722013288\n\n\n",
            "text/latex": "\\begin{enumerate*}\n\\item 0.000324297035991307\n\\item 0.000324298722013288\n\\end{enumerate*}\n",
            "text/plain": [
              "[1] 0.0003242970 0.0003242987"
            ]
          },
          "metadata": {}
        },
        {
          "output_type": "display_data",
          "data": {
            "text/html": [
              "<style>\n",
              ".list-inline {list-style: none; margin:0; padding: 0}\n",
              ".list-inline>li {display: inline-block}\n",
              ".list-inline>li:not(:last-child)::after {content: \"\\00b7\"; padding: 0 .5ex}\n",
              "</style>\n",
              "<ol class=list-inline><li>-0.00100203404868456</li><li>-0.0010021250456066</li></ol>\n"
            ],
            "text/markdown": "1. -0.00100203404868456\n2. -0.0010021250456066\n\n\n",
            "text/latex": "\\begin{enumerate*}\n\\item -0.00100203404868456\n\\item -0.0010021250456066\n\\end{enumerate*}\n",
            "text/plain": [
              "[1] -0.001002034 -0.001002125"
            ]
          },
          "metadata": {}
        },
        {
          "output_type": "display_data",
          "data": {
            "text/html": [
              "<style>\n",
              ".list-inline {list-style: none; margin:0; padding: 0}\n",
              ".list-inline>li {display: inline-block}\n",
              ".list-inline>li:not(:last-child)::after {content: \"\\00b7\"; padding: 0 .5ex}\n",
              "</style>\n",
              "<ol class=list-inline><li>0.370438675954523</li><li>0.387144247036449</li></ol>\n"
            ],
            "text/markdown": "1. 0.370438675954523\n2. 0.387144247036449\n\n\n",
            "text/latex": "\\begin{enumerate*}\n\\item 0.370438675954523\n\\item 0.387144247036449\n\\end{enumerate*}\n",
            "text/plain": [
              "[1] 0.3704387 0.3871442"
            ]
          },
          "metadata": {}
        }
      ]
    },
    {
      "cell_type": "markdown",
      "source": [
        "### Questão 2\n",
        "\n",
        "Matriz hessiana com função de ligação logito"
      ],
      "metadata": {
        "id": "U_NJPoEVxeWK"
      }
    },
    {
      "cell_type": "code",
      "source": [
        "#Questão 2\n",
        "H = function(a,b){\n",
        "  hab = sum(2*n*x*exp(x*b+a)*(2*n*exp(x*b+a)+(exp(2*a)*w-exp(2*a)*n)*exp(2*x*b)-w)/(exp(x*b+a)+1)^4)\n",
        "  ha.2 = sum(2*n*exp(a+b*x)*((w-n)*exp(2*a+2*b*x)+2*n*exp(a+b*x)-w)/(exp(a+b*x)+1)^4)\n",
        "  hb.2 = sum(2*n*x^2*exp(x*b+a)*(2*n*exp(x*b+a)+(exp(2*a)*w-exp(2*a)*n)*exp(2*x*b)-w)/(exp(x*b+a)+1)^4)\n",
        "  h = matrix(c(ha.2,hab,hab,hb.2),2,2)\n",
        "  return(h)\n",
        "}\n",
        "\n",
        "H(1,10); H(2,12); H(-1,-10); H(4,3)"
      ],
      "metadata": {
        "colab": {
          "base_uri": "https://localhost:8080/",
          "height": 337
        },
        "id": "WzQkC29TxpS5",
        "outputId": "2aaec096-d6b7-4073-e04f-8ded42bdd784"
      },
      "execution_count": null,
      "outputs": [
        {
          "output_type": "display_data",
          "data": {
            "text/html": [
              "<table class=\"dataframe\">\n",
              "<caption>A matrix: 2 × 2 of type dbl</caption>\n",
              "<tbody>\n",
              "\t<tr><td>-0.006513227</td><td>-0.006513478</td></tr>\n",
              "\t<tr><td>-0.006513478</td><td>-0.006513978</td></tr>\n",
              "</tbody>\n",
              "</table>\n"
            ],
            "text/markdown": "\nA matrix: 2 × 2 of type dbl\n\n| -0.006513227 | -0.006513478 |\n| -0.006513478 | -0.006513978 |\n\n",
            "text/latex": "A matrix: 2 × 2 of type dbl\n\\begin{tabular}{ll}\n\t -0.006513227 & -0.006513478\\\\\n\t -0.006513478 & -0.006513978\\\\\n\\end{tabular}\n",
            "text/plain": [
              "     [,1]         [,2]        \n",
              "[1,] -0.006513227 -0.006513478\n",
              "[2,] -0.006513478 -0.006513978"
            ]
          },
          "metadata": {}
        },
        {
          "output_type": "display_data",
          "data": {
            "text/html": [
              "<table class=\"dataframe\">\n",
              "<caption>A matrix: 2 × 2 of type dbl</caption>\n",
              "<tbody>\n",
              "\t<tr><td>-0.0003242962</td><td>-0.0003242979</td></tr>\n",
              "\t<tr><td>-0.0003242979</td><td>-0.0003243012</td></tr>\n",
              "</tbody>\n",
              "</table>\n"
            ],
            "text/markdown": "\nA matrix: 2 × 2 of type dbl\n\n| -0.0003242962 | -0.0003242979 |\n| -0.0003242979 | -0.0003243012 |\n\n",
            "text/latex": "A matrix: 2 × 2 of type dbl\n\\begin{tabular}{ll}\n\t -0.0003242962 & -0.0003242979\\\\\n\t -0.0003242979 & -0.0003243012\\\\\n\\end{tabular}\n",
            "text/plain": [
              "     [,1]          [,2]         \n",
              "[1,] -0.0003242962 -0.0003242979\n",
              "[2,] -0.0003242979 -0.0003243012"
            ]
          },
          "metadata": {}
        },
        {
          "output_type": "display_data",
          "data": {
            "text/html": [
              "<table class=\"dataframe\">\n",
              "<caption>A matrix: 2 × 2 of type dbl</caption>\n",
              "<tbody>\n",
              "\t<tr><td>-0.001001875</td><td>-0.001001966</td></tr>\n",
              "\t<tr><td>-0.001001966</td><td>-0.001002148</td></tr>\n",
              "</tbody>\n",
              "</table>\n"
            ],
            "text/markdown": "\nA matrix: 2 × 2 of type dbl\n\n| -0.001001875 | -0.001001966 |\n| -0.001001966 | -0.001002148 |\n\n",
            "text/latex": "A matrix: 2 × 2 of type dbl\n\\begin{tabular}{ll}\n\t -0.001001875 & -0.001001966\\\\\n\t -0.001001966 & -0.001002148\\\\\n\\end{tabular}\n",
            "text/plain": [
              "     [,1]         [,2]        \n",
              "[1,] -0.001001875 -0.001001966\n",
              "[2,] -0.001001966 -0.001002148"
            ]
          },
          "metadata": {}
        },
        {
          "output_type": "display_data",
          "data": {
            "text/html": [
              "<table class=\"dataframe\">\n",
              "<caption>A matrix: 2 × 2 of type dbl</caption>\n",
              "<tbody>\n",
              "\t<tr><td>-0.3694174</td><td>-0.3861207</td></tr>\n",
              "\t<tr><td>-0.3861207</td><td>-0.4213595</td></tr>\n",
              "</tbody>\n",
              "</table>\n"
            ],
            "text/markdown": "\nA matrix: 2 × 2 of type dbl\n\n| -0.3694174 | -0.3861207 |\n| -0.3861207 | -0.4213595 |\n\n",
            "text/latex": "A matrix: 2 × 2 of type dbl\n\\begin{tabular}{ll}\n\t -0.3694174 & -0.3861207\\\\\n\t -0.3861207 & -0.4213595\\\\\n\\end{tabular}\n",
            "text/plain": [
              "     [,1]       [,2]      \n",
              "[1,] -0.3694174 -0.3861207\n",
              "[2,] -0.3861207 -0.4213595"
            ]
          },
          "metadata": {}
        }
      ]
    },
    {
      "cell_type": "markdown",
      "source": [
        "# Lista 3"
      ],
      "metadata": {
        "id": "z196UrydEYXq"
      }
    },
    {
      "cell_type": "markdown",
      "source": [
        "### Questão 1"
      ],
      "metadata": {
        "id": "h4axx4eX0OW-"
      }
    },
    {
      "cell_type": "markdown",
      "source": [
        "Considere que temos interesse em estudar a relação entre peso e altura via simulação. Portanto, inicialmente gere amostra aleatória de alturas, denotadas por $x_1 , x_2 , . . . , x_n$ de uma distribuição normal de média $1,65$ metros e desvio-padrão $0,15$ metros. Em seguida, utilize a relação ($Y_i = α + βx_i + ϵ_i$, para $i = 1, . . . , n$) para gerar uma\n",
        "amostra de pesos, denotadas aqui por $Y_1, Y_2 , . . . , Y_n$ ."
      ],
      "metadata": {
        "id": "8t-BZI7L5X8Y"
      }
    },
    {
      "cell_type": "code",
      "source": [
        "set.seed(123)\n",
        "n = 100  # Tamanho da amostra\n",
        "xB = 1.65  # Média da altura\n",
        "sd_x = 0.15  # Desvio-padrão da altura\n",
        "\n",
        "alpha = 60  # Intercepto\n",
        "beta = 10  # Coeficiente angular\n",
        "v = 5  # Graus de liberdade da distribuição t\n",
        "sigma = 5  # Desvio-padrão do erro\n",
        "\n",
        "# Gerando amostra de alturas a partir de uma distribuição N(1.65; 0.15^2)\n",
        "x = rnorm(n, xB, sd_x)\n",
        "\n",
        "# Gerando fatores aleatórios epsilon, e ∼ t_ν(0,σ²)\n",
        "e = 0 + rt(n, v) * sigma\n",
        "\n",
        "# Gerando amostra de \"pesos\" utilizando o modelo de regressão\n",
        "y = alpha + beta * x + e\n",
        "\n",
        "y"
      ],
      "metadata": {
        "colab": {
          "base_uri": "https://localhost:8080/",
          "height": 243
        },
        "id": "GVhJrapF0CqP",
        "outputId": "a2cd2459-4278-44be-9062-af2dd1e1f6a8"
      },
      "execution_count": null,
      "outputs": [
        {
          "output_type": "display_data",
          "data": {
            "text/html": [
              "<style>\n",
              ".list-inline {list-style: none; margin:0; padding: 0}\n",
              ".list-inline>li {display: inline-block}\n",
              ".list-inline>li:not(:last-child)::after {content: \"\\00b7\"; padding: 0 .5ex}\n",
              "</style>\n",
              "<ol class=list-inline><li>72.0186439386089</li><li>74.5824957026251</li><li>71.9264193332934</li><li>65.8335744034455</li><li>81.5055321593279</li><li>82.0686824616739</li><li>79.8155435937002</li><li>75.3661651586558</li><li>79.5996024951654</li><li>77.9214551170021</li><li>80.3426373662562</li><li>81.6619435794306</li><li>77.7615497358894</li><li>81.068575187815</li><li>84.2823937681352</li><li>76.9913858048063</li><li>55.9371995629543</li><li>95.3520514134757</li><li>69.2120930144434</li><li>70.0867298403291</li><li>74.7867723536736</li><li>74.6255595706176</li><li>73.4349866533688</li><li>64.8288129373638</li><li>68.7368754264183</li><li>71.6213158290045</li><li>77.6643434121095</li><li>95.9983490141508</li><li>74.6841273111734</li><li>71.6147652712852</li><li>74.0496999377439</li><li>75.2065921137907</li><li>71.9483984770597</li><li>72.5378094342215</li><li>75.3754506185425</li><li>82.6518721860093</li><li>80.4755449086778</li><li>85.9956130182265</li><li>85.2499986712598</li><li>67.0064217608597</li><li>97.1080327920091</li><li>74.9447129110998</li><li>71.8167065660434</li><li>79.7119158395692</li><li>78.0221347826286</li><li>75.7641498819536</li><li>71.4512058132688</li><li>76.2575622544047</li><li>79.2889662122894</li><li>73.741681696229</li><li>81.8426935695731</li><li>74.4663300647956</li><li>71.1587897172266</li><li>84.8394094677467</li><li>75.6920388384525</li><li>73.5941605666287</li><li>78.321610712926</li><li>76.7797849298989</li><li>73.1100075704202</li><li>76.8885946484195</li><li>82.0096283917565</li><li>74.3595833868945</li><li>70.7718719005865</li><li>78.9861800144498</li><li>83.9709394658124</li><li>79.6341297482777</li><li>70.8474388705132</li><li>84.1292123418397</li><li>75.580536576671</li><li>79.937087300583</li><li>76.0995099747532</li><li>68.9275221805117</li><li>81.4868712935705</li><li>83.3365672884699</li><li>74.3121388331332</li><li>82.7964398681474</li><li>84.1175000100264</li><li>75.5369139864396</li><li>78.0157860800613</li><li>80.9954486030774</li><li>81.2089176031383</li><li>90.007099632851</li><li>69.0015614887311</li><li>84.7751884823814</li><li>89.7713732365639</li><li>86.8080891176067</li><li>65.6520848729777</li><li>54.9943997077824</li><li>77.7600184504904</li><li>80.8290058506891</li><li>87.1503220121953</li><li>76.5581665639719</li><li>71.2381021062933</li><li>67.1790495201763</li><li>65.4188711340766</li><li>73.7206870348509</li><li>82.1081438188139</li><li>52.1608584602828</li><li>79.4654782227067</li><li>79.4039017585781</li></ol>\n"
            ],
            "text/markdown": "1. 72.0186439386089\n2. 74.5824957026251\n3. 71.9264193332934\n4. 65.8335744034455\n5. 81.5055321593279\n6. 82.0686824616739\n7. 79.8155435937002\n8. 75.3661651586558\n9. 79.5996024951654\n10. 77.9214551170021\n11. 80.3426373662562\n12. 81.6619435794306\n13. 77.7615497358894\n14. 81.068575187815\n15. 84.2823937681352\n16. 76.9913858048063\n17. 55.9371995629543\n18. 95.3520514134757\n19. 69.2120930144434\n20. 70.0867298403291\n21. 74.7867723536736\n22. 74.6255595706176\n23. 73.4349866533688\n24. 64.8288129373638\n25. 68.7368754264183\n26. 71.6213158290045\n27. 77.6643434121095\n28. 95.9983490141508\n29. 74.6841273111734\n30. 71.6147652712852\n31. 74.0496999377439\n32. 75.2065921137907\n33. 71.9483984770597\n34. 72.5378094342215\n35. 75.3754506185425\n36. 82.6518721860093\n37. 80.4755449086778\n38. 85.9956130182265\n39. 85.2499986712598\n40. 67.0064217608597\n41. 97.1080327920091\n42. 74.9447129110998\n43. 71.8167065660434\n44. 79.7119158395692\n45. 78.0221347826286\n46. 75.7641498819536\n47. 71.4512058132688\n48. 76.2575622544047\n49. 79.2889662122894\n50. 73.741681696229\n51. 81.8426935695731\n52. 74.4663300647956\n53. 71.1587897172266\n54. 84.8394094677467\n55. 75.6920388384525\n56. 73.5941605666287\n57. 78.321610712926\n58. 76.7797849298989\n59. 73.1100075704202\n60. 76.8885946484195\n61. 82.0096283917565\n62. 74.3595833868945\n63. 70.7718719005865\n64. 78.9861800144498\n65. 83.9709394658124\n66. 79.6341297482777\n67. 70.8474388705132\n68. 84.1292123418397\n69. 75.580536576671\n70. 79.937087300583\n71. 76.0995099747532\n72. 68.9275221805117\n73. 81.4868712935705\n74. 83.3365672884699\n75. 74.3121388331332\n76. 82.7964398681474\n77. 84.1175000100264\n78. 75.5369139864396\n79. 78.0157860800613\n80. 80.9954486030774\n81. 81.2089176031383\n82. 90.007099632851\n83. 69.0015614887311\n84. 84.7751884823814\n85. 89.7713732365639\n86. 86.8080891176067\n87. 65.6520848729777\n88. 54.9943997077824\n89. 77.7600184504904\n90. 80.8290058506891\n91. 87.1503220121953\n92. 76.5581665639719\n93. 71.2381021062933\n94. 67.1790495201763\n95. 65.4188711340766\n96. 73.7206870348509\n97. 82.1081438188139\n98. 52.1608584602828\n99. 79.4654782227067\n100. 79.4039017585781\n\n\n",
            "text/latex": "\\begin{enumerate*}\n\\item 72.0186439386089\n\\item 74.5824957026251\n\\item 71.9264193332934\n\\item 65.8335744034455\n\\item 81.5055321593279\n\\item 82.0686824616739\n\\item 79.8155435937002\n\\item 75.3661651586558\n\\item 79.5996024951654\n\\item 77.9214551170021\n\\item 80.3426373662562\n\\item 81.6619435794306\n\\item 77.7615497358894\n\\item 81.068575187815\n\\item 84.2823937681352\n\\item 76.9913858048063\n\\item 55.9371995629543\n\\item 95.3520514134757\n\\item 69.2120930144434\n\\item 70.0867298403291\n\\item 74.7867723536736\n\\item 74.6255595706176\n\\item 73.4349866533688\n\\item 64.8288129373638\n\\item 68.7368754264183\n\\item 71.6213158290045\n\\item 77.6643434121095\n\\item 95.9983490141508\n\\item 74.6841273111734\n\\item 71.6147652712852\n\\item 74.0496999377439\n\\item 75.2065921137907\n\\item 71.9483984770597\n\\item 72.5378094342215\n\\item 75.3754506185425\n\\item 82.6518721860093\n\\item 80.4755449086778\n\\item 85.9956130182265\n\\item 85.2499986712598\n\\item 67.0064217608597\n\\item 97.1080327920091\n\\item 74.9447129110998\n\\item 71.8167065660434\n\\item 79.7119158395692\n\\item 78.0221347826286\n\\item 75.7641498819536\n\\item 71.4512058132688\n\\item 76.2575622544047\n\\item 79.2889662122894\n\\item 73.741681696229\n\\item 81.8426935695731\n\\item 74.4663300647956\n\\item 71.1587897172266\n\\item 84.8394094677467\n\\item 75.6920388384525\n\\item 73.5941605666287\n\\item 78.321610712926\n\\item 76.7797849298989\n\\item 73.1100075704202\n\\item 76.8885946484195\n\\item 82.0096283917565\n\\item 74.3595833868945\n\\item 70.7718719005865\n\\item 78.9861800144498\n\\item 83.9709394658124\n\\item 79.6341297482777\n\\item 70.8474388705132\n\\item 84.1292123418397\n\\item 75.580536576671\n\\item 79.937087300583\n\\item 76.0995099747532\n\\item 68.9275221805117\n\\item 81.4868712935705\n\\item 83.3365672884699\n\\item 74.3121388331332\n\\item 82.7964398681474\n\\item 84.1175000100264\n\\item 75.5369139864396\n\\item 78.0157860800613\n\\item 80.9954486030774\n\\item 81.2089176031383\n\\item 90.007099632851\n\\item 69.0015614887311\n\\item 84.7751884823814\n\\item 89.7713732365639\n\\item 86.8080891176067\n\\item 65.6520848729777\n\\item 54.9943997077824\n\\item 77.7600184504904\n\\item 80.8290058506891\n\\item 87.1503220121953\n\\item 76.5581665639719\n\\item 71.2381021062933\n\\item 67.1790495201763\n\\item 65.4188711340766\n\\item 73.7206870348509\n\\item 82.1081438188139\n\\item 52.1608584602828\n\\item 79.4654782227067\n\\item 79.4039017585781\n\\end{enumerate*}\n",
            "text/plain": [
              "  [1] 72.01864 74.58250 71.92642 65.83357 81.50553 82.06868 79.81554 75.36617\n",
              "  [9] 79.59960 77.92146 80.34264 81.66194 77.76155 81.06858 84.28239 76.99139\n",
              " [17] 55.93720 95.35205 69.21209 70.08673 74.78677 74.62556 73.43499 64.82881\n",
              " [25] 68.73688 71.62132 77.66434 95.99835 74.68413 71.61477 74.04970 75.20659\n",
              " [33] 71.94840 72.53781 75.37545 82.65187 80.47554 85.99561 85.25000 67.00642\n",
              " [41] 97.10803 74.94471 71.81671 79.71192 78.02213 75.76415 71.45121 76.25756\n",
              " [49] 79.28897 73.74168 81.84269 74.46633 71.15879 84.83941 75.69204 73.59416\n",
              " [57] 78.32161 76.77978 73.11001 76.88859 82.00963 74.35958 70.77187 78.98618\n",
              " [65] 83.97094 79.63413 70.84744 84.12921 75.58054 79.93709 76.09951 68.92752\n",
              " [73] 81.48687 83.33657 74.31214 82.79644 84.11750 75.53691 78.01579 80.99545\n",
              " [81] 81.20892 90.00710 69.00156 84.77519 89.77137 86.80809 65.65208 54.99440\n",
              " [89] 77.76002 80.82901 87.15032 76.55817 71.23810 67.17905 65.41887 73.72069\n",
              " [97] 82.10814 52.16086 79.46548 79.40390"
            ]
          },
          "metadata": {}
        }
      ]
    },
    {
      "cell_type": "markdown",
      "source": [
        "O Objetivo agora é estimar o vetor de parâmetros ($α, β, σ^2$ ) para $ν$ fixo. Considere, inicialmente, em sua simulação, $n = 100$, $α = −170$, $β = 140$, $σ^2 = 0.15^2$, $ν = 10$ e defina $set.seed(123)$ no R. Depois verifique para outras sementes aleatórias e combinações de tamanho de amostra e vetor de parâmetros."
      ],
      "metadata": {
        "id": "z5dBIANe7Z5d"
      }
    },
    {
      "cell_type": "code",
      "source": [
        "set.seed(123)\n",
        "\n",
        "xB = 1.65  # Média da altura\n",
        "n = 100\n",
        "alpha = -170\n",
        "beta = 140\n",
        "sigma2 = 0.15^2\n",
        "\n",
        "v = 10\n",
        "\n",
        "# Gerando amostra de alturas a partir de uma distribuição N(1.65; 0.15^2)\n",
        "x = rnorm(n, xB, sqrt(sigma2))\n",
        "\n",
        "# Gerando fatores aleatórios epsilon, e ∼ t_ν(0,σ²)\n",
        "e = 0 + rt(n, v) * sqrt(sigma2)\n",
        "\n",
        "# Gerando amostra de \"pesos\" utilizando o modelo de regressão\n",
        "y = alpha + beta * x + e\n",
        "\n",
        "# Valor inicial e valor máximo de iterações\n",
        "k = 1\n",
        "k_max = 50\n",
        "\n",
        "# Tolerancia de 4 casa decimais\n",
        "tol = 10^(-4)\n",
        "\n",
        "# Vetor dos parâmetros\n",
        "alpha_values = numeric()\n",
        "beta_values = numeric()\n",
        "sigma_sq_values = numeric()\n",
        "\n",
        "# Valores iniciais para alpha, beta e sigma_sq\n",
        "alpha_values[1] = mean(y)\n",
        "beta_values[1] = 0\n",
        "sigma_sq_values[1] = var(y)\n",
        "\n",
        "while (TRUE) {\n",
        "  mu_i = alpha_values[k] - beta_values[k] * x\n",
        "\n",
        "  # Passo E\n",
        "  d = (y - mu_i )^2 / sigma_sq_values[k]\n",
        "  si = (v + 1)/(v + d)\n",
        "\n",
        "  # Passo M\n",
        "  ## alpha\n",
        "  alpha_values[k + 1] = sum(y * si) / sum(si)\n",
        "\n",
        "  ## beta\n",
        "  beta_values[k + 1] = sum(x * y * si) / sum(x^2 * si)\n",
        "\n",
        "  ## sigma_sq\n",
        "  sigma_sq_values[k + 1] = sum(  si*(y - mu_i)^2 )/n\n",
        "\n",
        "  # Cálculo da tolerância\n",
        "  tol1 = abs(sigma_sq_values[k + 1] - sigma_sq_values[k])\n",
        "  tol2 = abs(alpha_values[k + 1] - alpha_values[k])\n",
        "  tol3 = abs(beta_values[k + 1] - beta_values[k])\n",
        "\n",
        "  Tolerancia = max(tol1, tol2, tol3)\n",
        "\n",
        "  # Incrementar k\n",
        "  k = k + 1\n",
        "\n",
        "  # Verificando a convergência\n",
        "  if ((k > k_max) || (Tolerancia < tol)) break\n",
        "}"
      ],
      "metadata": {
        "id": "OTiMClal7yV2"
      },
      "execution_count": null,
      "outputs": []
    },
    {
      "cell_type": "code",
      "source": [
        "cat(\"Valores de alpha, beta e sigma^2 obtidos:\\n\\n\")\n",
        "tabela = cbind(Iterações = seq(1:k),Alpha = alpha_values, Beta = beta_values, Sigma2 = sigma_sq_values)\n",
        "tabela\n",
        "cat(\"Número de iterações:\", k, \"\\n\")"
      ],
      "metadata": {
        "colab": {
          "base_uri": "https://localhost:8080/",
          "height": 495
        },
        "id": "25Pfw4ka88NH",
        "outputId": "6c3bc607-1e14-4138-e31a-e548901f8d36"
      },
      "execution_count": null,
      "outputs": [
        {
          "output_type": "stream",
          "name": "stdout",
          "text": [
            "Valores de alpha, beta e sigma^2 obtidos:\n",
            "\n"
          ]
        },
        {
          "output_type": "display_data",
          "data": {
            "text/html": [
              "<table class=\"dataframe\">\n",
              "<caption>A matrix: 12 × 4 of type dbl</caption>\n",
              "<thead>\n",
              "\t<tr><th scope=col>Iterações</th><th scope=col>Alpha</th><th scope=col>Beta</th><th scope=col>Sigma2</th></tr>\n",
              "</thead>\n",
              "<tbody>\n",
              "\t<tr><td> 1</td><td>62.90962</td><td> 0.00000</td><td> 366.6453</td></tr>\n",
              "\t<tr><td> 2</td><td>62.79954</td><td>38.35795</td><td> 318.3444</td></tr>\n",
              "\t<tr><td> 3</td><td>55.65038</td><td>35.23035</td><td>1844.0625</td></tr>\n",
              "\t<tr><td> 4</td><td>60.47863</td><td>37.41291</td><td>3974.3387</td></tr>\n",
              "\t<tr><td> 5</td><td>61.61381</td><td>37.91929</td><td>4483.3183</td></tr>\n",
              "\t<tr><td> 6</td><td>61.74408</td><td>37.97728</td><td>4525.0865</td></tr>\n",
              "\t<tr><td> 7</td><td>61.75368</td><td>37.98154</td><td>4526.8145</td></tr>\n",
              "\t<tr><td> 8</td><td>61.75407</td><td>37.98172</td><td>4526.7680</td></tr>\n",
              "\t<tr><td> 9</td><td>61.75406</td><td>37.98171</td><td>4526.7511</td></tr>\n",
              "\t<tr><td>10</td><td>61.75406</td><td>37.98171</td><td>4526.7493</td></tr>\n",
              "\t<tr><td>11</td><td>61.75406</td><td>37.98171</td><td>4526.7491</td></tr>\n",
              "\t<tr><td>12</td><td>61.75406</td><td>37.98171</td><td>4526.7491</td></tr>\n",
              "</tbody>\n",
              "</table>\n"
            ],
            "text/markdown": "\nA matrix: 12 × 4 of type dbl\n\n| Iterações | Alpha | Beta | Sigma2 |\n|---|---|---|---|\n|  1 | 62.90962 |  0.00000 |  366.6453 |\n|  2 | 62.79954 | 38.35795 |  318.3444 |\n|  3 | 55.65038 | 35.23035 | 1844.0625 |\n|  4 | 60.47863 | 37.41291 | 3974.3387 |\n|  5 | 61.61381 | 37.91929 | 4483.3183 |\n|  6 | 61.74408 | 37.97728 | 4525.0865 |\n|  7 | 61.75368 | 37.98154 | 4526.8145 |\n|  8 | 61.75407 | 37.98172 | 4526.7680 |\n|  9 | 61.75406 | 37.98171 | 4526.7511 |\n| 10 | 61.75406 | 37.98171 | 4526.7493 |\n| 11 | 61.75406 | 37.98171 | 4526.7491 |\n| 12 | 61.75406 | 37.98171 | 4526.7491 |\n\n",
            "text/latex": "A matrix: 12 × 4 of type dbl\n\\begin{tabular}{llll}\n Iterações & Alpha & Beta & Sigma2\\\\\n\\hline\n\t  1 & 62.90962 &  0.00000 &  366.6453\\\\\n\t  2 & 62.79954 & 38.35795 &  318.3444\\\\\n\t  3 & 55.65038 & 35.23035 & 1844.0625\\\\\n\t  4 & 60.47863 & 37.41291 & 3974.3387\\\\\n\t  5 & 61.61381 & 37.91929 & 4483.3183\\\\\n\t  6 & 61.74408 & 37.97728 & 4525.0865\\\\\n\t  7 & 61.75368 & 37.98154 & 4526.8145\\\\\n\t  8 & 61.75407 & 37.98172 & 4526.7680\\\\\n\t  9 & 61.75406 & 37.98171 & 4526.7511\\\\\n\t 10 & 61.75406 & 37.98171 & 4526.7493\\\\\n\t 11 & 61.75406 & 37.98171 & 4526.7491\\\\\n\t 12 & 61.75406 & 37.98171 & 4526.7491\\\\\n\\end{tabular}\n",
            "text/plain": [
              "      Iterações Alpha    Beta     Sigma2   \n",
              " [1,]  1        62.90962  0.00000  366.6453\n",
              " [2,]  2        62.79954 38.35795  318.3444\n",
              " [3,]  3        55.65038 35.23035 1844.0625\n",
              " [4,]  4        60.47863 37.41291 3974.3387\n",
              " [5,]  5        61.61381 37.91929 4483.3183\n",
              " [6,]  6        61.74408 37.97728 4525.0865\n",
              " [7,]  7        61.75368 37.98154 4526.8145\n",
              " [8,]  8        61.75407 37.98172 4526.7680\n",
              " [9,]  9        61.75406 37.98171 4526.7511\n",
              "[10,] 10        61.75406 37.98171 4526.7493\n",
              "[11,] 11        61.75406 37.98171 4526.7491\n",
              "[12,] 12        61.75406 37.98171 4526.7491"
            ]
          },
          "metadata": {}
        },
        {
          "output_type": "stream",
          "name": "stdout",
          "text": [
            "Número de iterações: 12 \n"
          ]
        }
      ]
    },
    {
      "cell_type": "markdown",
      "source": [
        "Depois verifique para outras sementes aleatórias e combinações de tamanho de amostra e vetor de parâmetros.\n",
        "\n",
        " Agora vamos considera, $n = 1000$, $α = 90$, $β = 30$, $σ^2 = 0.1^2$, $ν = 7$ e defina $set.seed(514096)$ no R."
      ],
      "metadata": {
        "id": "i8cb5Ke--2lS"
      }
    },
    {
      "cell_type": "code",
      "source": [
        "set.seed(514096)\n",
        "\n",
        "xB = 1.5  # Média da altura\n",
        "n = 1000\n",
        "alpha = 90\n",
        "beta = 30\n",
        "sigma2 = 0.1^2\n",
        "\n",
        "v = 7\n",
        "\n",
        "# Gerando amostra de alturas a partir de uma distribuição N(1.65; 0.15^2)\n",
        "x = rnorm(n, xB, sqrt(sigma2))\n",
        "\n",
        "# Gerando fatores aleatórios epsilon, e ∼ t_ν(0,σ²)\n",
        "e = 0 + rt(n, v) * sqrt(sigma2)\n",
        "\n",
        "# Gerando amostra de \"pesos\" utilizando o modelo de regressão\n",
        "y = alpha + beta * x + e\n",
        "\n",
        "# Valor inicial e valor máximo de iterações\n",
        "k = 1\n",
        "k_max = 50\n",
        "\n",
        "# Tolerancia de 4 casa decimais\n",
        "tol = 10^(-4)\n",
        "\n",
        "# Vetor dos parâmetros\n",
        "alpha_values = numeric()\n",
        "beta_values = numeric()\n",
        "sigma_sq_values = numeric()\n",
        "\n",
        "# Valores iniciais para alpha, beta e sigma_sq\n",
        "alpha_values[1] = mean(y)\n",
        "beta_values[1] = 0\n",
        "sigma_sq_values[1] = var(y)\n",
        "\n",
        "while (TRUE) {\n",
        "  mu_i = alpha_values[k] - beta_values[k] * x\n",
        "\n",
        "  # Passo E\n",
        "  d = (y - mu_i )^2 / sigma_sq_values[k]\n",
        "  si = (v + 1)/(v + d)\n",
        "\n",
        "  # Passo M\n",
        "  ## alpha\n",
        "  alpha_values[k + 1] = sum(y * si) / sum(si)\n",
        "\n",
        "  ## beta\n",
        "  beta_values[k + 1] = sum(x * y * si) / sum(x^2 * si)\n",
        "\n",
        "  ## sigma_sq\n",
        "  sigma_sq_values[k + 1] = sum(  si*(y - mu_i)^2 )/n\n",
        "\n",
        "  # Cálculo da tolerância\n",
        "  tol1 = abs(sigma_sq_values[k + 1] - sigma_sq_values[k])\n",
        "  tol2 = abs(alpha_values[k + 1] - alpha_values[k])\n",
        "  tol3 = abs(beta_values[k + 1] - beta_values[k])\n",
        "\n",
        "  Tolerancia = max(tol1, tol2, tol3)\n",
        "\n",
        "  # Incrementar k\n",
        "  k = k + 1\n",
        "\n",
        "  # Verificando a convergência\n",
        "  if ((k > k_max) || (Tolerancia < tol)) break\n",
        "}"
      ],
      "metadata": {
        "id": "len4YcfnqJIR"
      },
      "execution_count": null,
      "outputs": []
    },
    {
      "cell_type": "code",
      "source": [
        "cat(\"Valores de alpha, beta e sigma^2 obtidos:\\n\\n\")\n",
        "tabela = cbind(Iterações = seq(1:k),Alpha = alpha_values, Beta = beta_values, Sigma2 = sigma_sq_values)\n",
        "tabela\n",
        "cat(\"Número de iterações:\", k, \"\\n\")"
      ],
      "metadata": {
        "colab": {
          "base_uri": "https://localhost:8080/",
          "height": 495
        },
        "id": "RN7ui67dtOEr",
        "outputId": "44112c65-7862-40fa-df5c-bd0a6659ffa2"
      },
      "execution_count": null,
      "outputs": [
        {
          "output_type": "stream",
          "name": "stdout",
          "text": [
            "Valores de alpha, beta e sigma^2 obtidos:\n",
            "\n"
          ]
        },
        {
          "output_type": "display_data",
          "data": {
            "text/html": [
              "<table class=\"dataframe\">\n",
              "<caption>A matrix: 12 × 4 of type dbl</caption>\n",
              "<thead>\n",
              "\t<tr><th scope=col>Iterações</th><th scope=col>Alpha</th><th scope=col>Beta</th><th scope=col>Sigma2</th></tr>\n",
              "</thead>\n",
              "<tbody>\n",
              "\t<tr><td> 1</td><td>30.11908</td><td> 0.00000</td><td> 65.08585</td></tr>\n",
              "\t<tr><td> 2</td><td>30.12954</td><td>20.28117</td><td> 53.57699</td></tr>\n",
              "\t<tr><td> 3</td><td>26.34484</td><td>18.41890</td><td>287.73977</td></tr>\n",
              "\t<tr><td> 4</td><td>28.58658</td><td>19.55624</td><td>747.38534</td></tr>\n",
              "\t<tr><td> 5</td><td>29.36207</td><td>19.94663</td><td>955.70293</td></tr>\n",
              "\t<tr><td> 6</td><td>29.50162</td><td>20.01690</td><td>990.14102</td></tr>\n",
              "\t<tr><td> 7</td><td>29.51988</td><td>20.02610</td><td>994.16339</td></tr>\n",
              "\t<tr><td> 8</td><td>29.52195</td><td>20.02713</td><td>994.58679</td></tr>\n",
              "\t<tr><td> 9</td><td>29.52216</td><td>20.02724</td><td>994.62936</td></tr>\n",
              "\t<tr><td>10</td><td>29.52219</td><td>20.02725</td><td>994.63352</td></tr>\n",
              "\t<tr><td>11</td><td>29.52219</td><td>20.02726</td><td>994.63392</td></tr>\n",
              "\t<tr><td>12</td><td>29.52219</td><td>20.02726</td><td>994.63396</td></tr>\n",
              "</tbody>\n",
              "</table>\n"
            ],
            "text/markdown": "\nA matrix: 12 × 4 of type dbl\n\n| Iterações | Alpha | Beta | Sigma2 |\n|---|---|---|---|\n|  1 | 30.11908 |  0.00000 |  65.08585 |\n|  2 | 30.12954 | 20.28117 |  53.57699 |\n|  3 | 26.34484 | 18.41890 | 287.73977 |\n|  4 | 28.58658 | 19.55624 | 747.38534 |\n|  5 | 29.36207 | 19.94663 | 955.70293 |\n|  6 | 29.50162 | 20.01690 | 990.14102 |\n|  7 | 29.51988 | 20.02610 | 994.16339 |\n|  8 | 29.52195 | 20.02713 | 994.58679 |\n|  9 | 29.52216 | 20.02724 | 994.62936 |\n| 10 | 29.52219 | 20.02725 | 994.63352 |\n| 11 | 29.52219 | 20.02726 | 994.63392 |\n| 12 | 29.52219 | 20.02726 | 994.63396 |\n\n",
            "text/latex": "A matrix: 12 × 4 of type dbl\n\\begin{tabular}{llll}\n Iterações & Alpha & Beta & Sigma2\\\\\n\\hline\n\t  1 & 30.11908 &  0.00000 &  65.08585\\\\\n\t  2 & 30.12954 & 20.28117 &  53.57699\\\\\n\t  3 & 26.34484 & 18.41890 & 287.73977\\\\\n\t  4 & 28.58658 & 19.55624 & 747.38534\\\\\n\t  5 & 29.36207 & 19.94663 & 955.70293\\\\\n\t  6 & 29.50162 & 20.01690 & 990.14102\\\\\n\t  7 & 29.51988 & 20.02610 & 994.16339\\\\\n\t  8 & 29.52195 & 20.02713 & 994.58679\\\\\n\t  9 & 29.52216 & 20.02724 & 994.62936\\\\\n\t 10 & 29.52219 & 20.02725 & 994.63352\\\\\n\t 11 & 29.52219 & 20.02726 & 994.63392\\\\\n\t 12 & 29.52219 & 20.02726 & 994.63396\\\\\n\\end{tabular}\n",
            "text/plain": [
              "      Iterações Alpha    Beta     Sigma2   \n",
              " [1,]  1        30.11908  0.00000  65.08585\n",
              " [2,]  2        30.12954 20.28117  53.57699\n",
              " [3,]  3        26.34484 18.41890 287.73977\n",
              " [4,]  4        28.58658 19.55624 747.38534\n",
              " [5,]  5        29.36207 19.94663 955.70293\n",
              " [6,]  6        29.50162 20.01690 990.14102\n",
              " [7,]  7        29.51988 20.02610 994.16339\n",
              " [8,]  8        29.52195 20.02713 994.58679\n",
              " [9,]  9        29.52216 20.02724 994.62936\n",
              "[10,] 10        29.52219 20.02725 994.63352\n",
              "[11,] 11        29.52219 20.02726 994.63392\n",
              "[12,] 12        29.52219 20.02726 994.63396"
            ]
          },
          "metadata": {}
        },
        {
          "output_type": "stream",
          "name": "stdout",
          "text": [
            "Número de iterações: 12 \n"
          ]
        }
      ]
    }
  ]
}